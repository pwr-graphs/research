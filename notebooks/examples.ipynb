{
 "cells": [
  {
   "cell_type": "code",
   "execution_count": null,
   "metadata": {},
   "outputs": [],
   "source": [
    "%load_ext autoreload\n",
    "%autoreload 2"
   ]
  },
  {
   "cell_type": "code",
   "execution_count": null,
   "metadata": {},
   "outputs": [],
   "source": [
    "import sys\n",
    "sys.path.append('../base')"
   ]
  },
  {
   "cell_type": "code",
   "execution_count": null,
   "metadata": {},
   "outputs": [],
   "source": [
    "import munea_core"
   ]
  },
  {
   "cell_type": "code",
   "execution_count": null,
   "metadata": {},
   "outputs": [],
   "source": [
    "import munea_core.metrics.cc as cc\n",
    "import munea_core.metrics.diagnostic as diag\n",
    "import munea_core.metrics.rank as rank\n",
    "import munea_core.transformations.destroyer as destroy\n",
    "from munea_core.network import Layer, Models, MultiLayer\n",
    "from munea_core.utils import *"
   ]
  },
  {
   "cell_type": "code",
   "execution_count": null,
   "metadata": {},
   "outputs": [],
   "source": [
    "# GRAPH VISUALIZATION EXAMPLE\n",
    "multilayer = MultiLayer(Layer.combine(*example_nets), *example_nets)\n",
    "plot_network_layers(multilayer, with_labels=True)"
   ]
  },
  {
   "cell_type": "code",
   "execution_count": null,
   "metadata": {},
   "outputs": [],
   "source": [
    "# VISUALIZATION EXAMPLE\n",
    "plots = []\n",
    "for idx in range(25):\n",
    "    example_nets = [\n",
    "        Layer(Models.watts_strogatz_graph, n=100, p=0.2, k=60),\n",
    "        Layer(Models.watts_strogatz_graph, n=50, p=0.2, k=30),\n",
    "    ]\n",
    "    multilayer = MultiLayer(Layer.combine(*example_nets), *example_nets)\n",
    "    results = cc.clcc_distribution(multilayer)\n",
    "    plots.append((f'Some graph #{idx}', plot_2d_data(results[0], results[1], 'Node id', 'CLCC value')))\n",
    "grid_plot(*plots)"
   ]
  },
  {
   "cell_type": "code",
   "execution_count": null,
   "metadata": {},
   "outputs": [],
   "source": [
    "# EXAMPLES OF METRICS\n",
    "multilayer = MultiLayer(\n",
    "    Layer(Models.watts_strogatz_graph, n=10, p=0.2, k=3),\n",
    "    Layer(Models.watts_strogatz_graph, n=5, p=0.2, k=3),\n",
    ")\n",
    "\n",
    "cc.clcc(multilayer, 1)\n",
    "\n",
    "diag.degs_dist(multilayer)\n",
    "diag.flat_degs_dist(multilayer)\n",
    "\n",
    "destroyer = destroy.Destroyer(multilayer)\n",
    "reduced_multilayer = destroyer.remove_random_nodes(0.5)\n",
    "\n",
    "rank.calc_rank(multilayer, diag.flat_degs_dist, True)\n",
    "rank_a = rank.calc_rank(multilayer, cc.clcc, False)\n",
    "rank_b = rank.calc_rank(reduced_multilayer, cc.clcc, False)\n",
    "\n",
    "rank.compare_network_ranks(rank_a, rank_b)"
   ]
  }
 ],
 "metadata": {
  "kernelspec": {
   "display_name": "Python 3",
   "language": "python",
   "name": "python3"
  },
  "language_info": {
   "codemirror_mode": {
    "name": "ipython",
    "version": 3
   },
   "file_extension": ".py",
   "mimetype": "text/x-python",
   "name": "python",
   "nbconvert_exporter": "python",
   "pygments_lexer": "ipython3",
   "version": "3.6.6"
  }
 },
 "nbformat": 4,
 "nbformat_minor": 2
}
